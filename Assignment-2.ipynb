{
 "cells": [
  {
   "cell_type": "markdown",
   "metadata": {},
   "source": [
    "### 1. What are the Boolean data type's two values? How do you go about writing them?\n"
   ]
  },
  {
   "cell_type": "markdown",
   "metadata": {},
   "source": [
    "Solution: The two values are True and False interpreter interpret it as 1 and 0 internally. \n",
    "\n",
    "color=True, present=True\n"
   ]
  },
  {
   "cell_type": "markdown",
   "metadata": {},
   "source": [
    "### 2. What are the three different types of Boolean operators?"
   ]
  },
  {
   "cell_type": "markdown",
   "metadata": {},
   "source": [
    "Solution: The three different types of Boolean operators are AND,OR,NOT."
   ]
  },
  {
   "cell_type": "markdown",
   "metadata": {},
   "source": [
    "### 3. Make a list of each Boolean operator's truth tables (i.e. every possible combination of Boolean values for the operator and what it evaluate ).\n"
   ]
  },
  {
   "cell_type": "code",
   "execution_count": 14,
   "metadata": {},
   "outputs": [
    {
     "ename": "SyntaxError",
     "evalue": "invalid syntax (<ipython-input-14-750f02c9a8e2>, line 3)",
     "output_type": "error",
     "traceback": [
      "\u001b[0;36m  File \u001b[0;32m\"<ipython-input-14-750f02c9a8e2>\"\u001b[0;36m, line \u001b[0;32m3\u001b[0m\n\u001b[0;31m    1       1\t       1\t\t      1         1\t        1\t       1        1         0\u001b[0m\n\u001b[0m            ^\u001b[0m\n\u001b[0;31mSyntaxError\u001b[0m\u001b[0;31m:\u001b[0m invalid syntax\n"
     ]
    }
   ],
   "source": [
    "'And table'\t\t                 'OR table'                            'Not table'\n",
    "'A'      'B'     'output'\t     'A'        'B'       'output'    'A'      'B'     'output'\n",
    "1       1\t       1\t\t      1         1\t        1\t       1        1         0  '(false outcome as expected)'\n",
    "1       0          0   \t          1         0           1\t       1        0         1  '(true outcome as expected)'\n",
    "0       1          0              0         1           0          0        1         1  '(true outcome as expected)'\n",
    "0       0          0              0         0           0          0        0         0  '(false outcome as expected)'\n"
   ]
  },
  {
   "cell_type": "markdown",
   "metadata": {},
   "source": [
    "### 4. What are the values of the following expressions?\n"
   ]
  },
  {
   "cell_type": "markdown",
   "metadata": {},
   "source": [
    "(5 > 4) and (3 == 5) -------->  False\n",
    "\n",
    "not (5 > 4)---------------------> False\n",
    "\n",
    "(5 > 4) or (3 == 5)------------> True\n",
    "\n",
    "not ((5 > 4) or (3 == 5))------>False\n",
    "\n",
    "(True and True) and (True == False)-->False\n",
    "\n",
    "(not False) or (not True)------>True\n"
   ]
  },
  {
   "cell_type": "markdown",
   "metadata": {},
   "source": [
    "### 5. What are the six different types of reference operators?\n"
   ]
  },
  {
   "cell_type": "markdown",
   "metadata": {},
   "source": [
    "Solution: =, +=, -=, /=, *=, %=, ==, "
   ]
  },
  {
   "cell_type": "markdown",
   "metadata": {},
   "source": [
    "### 6. How do you tell the difference between the equal to and assignment operators?\n"
   ]
  },
  {
   "cell_type": "markdown",
   "metadata": {},
   "source": [
    "Solution: Equal means we are checking or like validating. Ex: a == 9 \n",
    "  \n",
    "  Assignment means we are assigning that value to be stored in a container. Ex: a = 9\n"
   ]
  },
  {
   "cell_type": "markdown",
   "metadata": {},
   "source": [
    "### 7. Describe a condition and when you would use one.\n"
   ]
  },
  {
   "cell_type": "markdown",
   "metadata": {},
   "source": [
    "Solution: A condition is a statement, we use to evaluate and help us in building logic.\n",
    "\n",
    "Like in if():else()....\n",
    "\n",
    "Use Case: if my budget is 5000 fixed, then to purchase a bike it cost around 60,000 then i can write a logic with base condition of my budget like :-\n",
    "\n",
    "\tif myBudget == 5000:\n",
    "\t\tprint(“I need to save for at least 1 year to purchase a bike”)\n"
   ]
  },
  {
   "cell_type": "markdown",
   "metadata": {},
   "source": [
    "### 8. Recognize the following three blocks in this code:\n",
    "\n",
    "```spam = 0\n",
    "if spam == 10:\n",
    "    print('eggs')\n",
    "    if spam > 5:\n",
    "        print('bacon')\n",
    "    else:\n",
    "        print('ham')\n",
    "    print('spam')\n",
    "print('spam')   \n"
   ]
  },
  {
   "cell_type": "markdown",
   "metadata": {},
   "source": [
    ">---> Answer to this code is 0.\n"
   ]
  },
  {
   "cell_type": "markdown",
   "metadata": {},
   "source": [
    "### 9. Create a programme that prints. If 1 is stored in spam, prints Hello; if 2 is stored in spam, prints Howdy; and if 3 is stored in spam, prints Salutations! if there's something else in spam.\n"
   ]
  },
  {
   "cell_type": "markdown",
   "metadata": {},
   "source": [
    "Solution:\n",
    "\n",
    ">```\n",
    "spam = int(input(\"Enter the desired number\"))\n",
    "if spam == 1:\n",
    "\tprint(\"Hello\")\n",
    "elif spam == 2:\n",
    "\tprint(\"Howdy\")\n",
    "elif spam == 3:\n",
    "\tprint(\"Salutations!\")\n",
    "else:\n",
    "\tprint(\"spam\")\n",
    "\n"
   ]
  },
  {
   "cell_type": "markdown",
   "metadata": {},
   "source": [
    "### 10.If your programme is stuck in an endless loop, what keys can you press?\n"
   ]
  },
  {
   "cell_type": "markdown",
   "metadata": {},
   "source": [
    "Solution:  I,I: interrupt the kernel\n",
    "  \n",
    "  0,0: restart the kernel (with dialog)\n"
   ]
  },
  {
   "cell_type": "markdown",
   "metadata": {},
   "source": [
    "### 11. How can you tell the difference between break and continue?\n"
   ]
  },
  {
   "cell_type": "markdown",
   "metadata": {},
   "source": [
    "Solution: Break means it immediately terminates the execution when the interpreter see’s this word.\n",
    " Continue means it goes to the next nearest parent  iteration and rejects what’s after the continue word.\n"
   ]
  },
  {
   "cell_type": "markdown",
   "metadata": {},
   "source": [
    "### 12. In a for loop, what is the difference between range(10), range(0, 10), and range(0, 10, 1)?\n"
   ]
  },
  {
   "cell_type": "markdown",
   "metadata": {},
   "source": [
    "Solution: range(10), range(0,10),range(0,10,1) means the same thing we get 0 to 9 total of 10 counts.\n",
    "\n",
    "It doesn’t matter much of out initial start count is 0. So using range(10) or range(0,10) or range(0,10,1) would yield the same. \n",
    "\n",
    "range(0,10,1) means start from 0 count go till 9 by incrementing one at a time. Same as range(10),range(0,10).\n"
   ]
  },
  {
   "cell_type": "markdown",
   "metadata": {},
   "source": [
    "### 13. Using a for loop, write a short programme that prints the numbers 1 to 10 Then, using a while loop, create an identical programme that prints the numbers 1 to 10.\n"
   ]
  },
  {
   "cell_type": "markdown",
   "metadata": {},
   "source": [
    "Solution: \n",
    "\n",
    "Using for loop:-\n",
    "\n",
    "for i in range(1,11):\n",
    "\n",
    "      print(i)\n",
    "\n",
    "using while loop:-\n",
    "\n",
    "var_initial = 1\n",
    "\n",
    "while var_initial < 11:\n",
    "\n",
    "    print(var_initial)\n",
    "    \n",
    "    var_initial+=1\n"
   ]
  },
  {
   "cell_type": "markdown",
   "metadata": {},
   "source": [
    "### 14. If you had a bacon() function within a spam module, what would you call it after importing spam?\n"
   ]
  },
  {
   "cell_type": "markdown",
   "metadata": {},
   "source": [
    "Solution:\n",
    "spam.bacon()\n",
    "\n",
    "\n"
   ]
  },
  {
   "cell_type": "code",
   "execution_count": null,
   "metadata": {},
   "outputs": [],
   "source": []
  }
 ],
 "metadata": {
  "kernelspec": {
   "display_name": "Python 3",
   "language": "python",
   "name": "python3"
  },
  "language_info": {
   "codemirror_mode": {
    "name": "ipython",
    "version": 3
   },
   "file_extension": ".py",
   "mimetype": "text/x-python",
   "name": "python",
   "nbconvert_exporter": "python",
   "pygments_lexer": "ipython3",
   "version": "3.8.5"
  }
 },
 "nbformat": 4,
 "nbformat_minor": 4
}
