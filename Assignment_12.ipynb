{
 "cells": [
  {
   "cell_type": "markdown",
   "id": "be8d0a8b",
   "metadata": {},
   "source": [
    "# 1. In what modes should the PdfFileReader() and PdfFileWriter() File objects will be opened?"
   ]
  },
  {
   "cell_type": "markdown",
   "id": "e4a701a9",
   "metadata": {},
   "source": [
    "Reader ---> in rb mode\n",
    "Writer ---> in wb mode"
   ]
  },
  {
   "cell_type": "markdown",
   "id": "0390340b",
   "metadata": {},
   "source": [
    "# 2. From a PdfFileReader object, how do you get a Page object for page 5?"
   ]
  },
  {
   "cell_type": "markdown",
   "id": "43f252d2",
   "metadata": {},
   "source": [
    "page_obj = PyPDF2.PdfFileReader.getPage(5)"
   ]
  },
  {
   "cell_type": "markdown",
   "id": "3858b5d0",
   "metadata": {},
   "source": [
    "# 3. What PdfFileReader variable stores the number of pages in the PDF document?"
   ]
  },
  {
   "cell_type": "markdown",
   "id": "4a12b16d",
   "metadata": {},
   "source": [
    "pages_of_pdffile = PyPDF2.PdfFileReader.getNumPages()"
   ]
  },
  {
   "cell_type": "markdown",
   "id": "03bcfec5",
   "metadata": {},
   "source": [
    "# 4. If a PdfFileReader object’s PDF is encrypted with the password swordfish, what must you do before you can obtain Page objects from it?"
   ]
  },
  {
   "cell_type": "markdown",
   "id": "36ffa7fa",
   "metadata": {},
   "source": [
    "we will decrypt the file with password swordfish and then access the content from it\n"
   ]
  },
  {
   "cell_type": "markdown",
   "id": "e6fd622e",
   "metadata": {},
   "source": [
    "# 5. What methods do you use to rotate a page?"
   ]
  },
  {
   "cell_type": "markdown",
   "id": "81c11fe5",
   "metadata": {},
   "source": [
    "rotateClockWise, rotateCounterClockWise"
   ]
  },
  {
   "cell_type": "markdown",
   "id": "a84293a8",
   "metadata": {},
   "source": [
    "# 6. What is the difference between a Run object and a Paragraph object?"
   ]
  },
  {
   "cell_type": "markdown",
   "id": "f5007ce4",
   "metadata": {},
   "source": [
    "The Document object contains a list of Paragraph objects for the paragraphs in the document. ... A Run object is a contiguous run of text with the same style."
   ]
  },
  {
   "cell_type": "markdown",
   "id": "a0cfaeeb",
   "metadata": {},
   "source": [
    "# 7. How do you obtain a list of Paragraph objects for a Document object that’s stored in a variable named doc?"
   ]
  },
  {
   "cell_type": "markdown",
   "id": "97cb3d2b",
   "metadata": {},
   "source": [
    "doc.paragraphs()"
   ]
  },
  {
   "cell_type": "markdown",
   "id": "ab9cc691",
   "metadata": {},
   "source": [
    "# 8. What type of object has bold, underline, italic, strike, and outline variables?"
   ]
  },
  {
   "cell_type": "markdown",
   "id": "a71d56a5",
   "metadata": {},
   "source": [
    "runs"
   ]
  },
  {
   "cell_type": "markdown",
   "id": "3e8937e0",
   "metadata": {},
   "source": [
    "# 9. What is the difference between False, True, and None for the bold variable?"
   ]
  },
  {
   "cell_type": "markdown",
   "id": "2a79ecc2",
   "metadata": {},
   "source": [
    "false means not bold variable, True means bold variable, None means the bold variable obj doesnt exist"
   ]
  },
  {
   "cell_type": "markdown",
   "id": "66742dda",
   "metadata": {},
   "source": [
    "# 10. How do you create a Document object for a new Word document?"
   ]
  },
  {
   "cell_type": "markdown",
   "id": "71aaf0ca",
   "metadata": {},
   "source": [
    "document = Document()"
   ]
  },
  {
   "cell_type": "markdown",
   "id": "61827b72",
   "metadata": {},
   "source": [
    "# 11. How do you add a paragraph with the text &#39;Hello, there!&#39; to a Document object stored in a variable named doc?"
   ]
  },
  {
   "cell_type": "markdown",
   "id": "1e22e13b",
   "metadata": {},
   "source": [
    " doc.add_paragraph('Hello, there!')"
   ]
  },
  {
   "cell_type": "markdown",
   "id": "093e6d24",
   "metadata": {},
   "source": [
    " # 12. What integers represent the levels of headings available in Word documents?"
   ]
  },
  {
   "cell_type": "markdown",
   "id": "4a2ed4f2",
   "metadata": {},
   "source": [
    "0,1,2,3..."
   ]
  },
  {
   "cell_type": "code",
   "execution_count": null,
   "id": "6673fd38",
   "metadata": {},
   "outputs": [],
   "source": []
  }
 ],
 "metadata": {
  "kernelspec": {
   "display_name": "Python 3",
   "language": "python",
   "name": "python3"
  },
  "language_info": {
   "codemirror_mode": {
    "name": "ipython",
    "version": 3
   },
   "file_extension": ".py",
   "mimetype": "text/x-python",
   "name": "python",
   "nbconvert_exporter": "python",
   "pygments_lexer": "ipython3",
   "version": "3.8.8"
  }
 },
 "nbformat": 4,
 "nbformat_minor": 5
}
