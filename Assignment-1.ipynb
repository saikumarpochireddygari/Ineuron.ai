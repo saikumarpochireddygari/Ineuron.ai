{
 "cells": [
  {
   "cell_type": "markdown",
   "metadata": {},
   "source": [
    "### 1. What are the differences between operators and values in the following?\n"
   ]
  },
  {
   "cell_type": "markdown",
   "metadata": {},
   "source": [
    "'*'     => Star operator means Multiplication. Used in performing arithmetic and logical operations.             Not only specific to arithmetic and logical operations we can use it in many different scenarios as well. It all depends on the problem statement.\n",
    "\n",
    "'Hello' => Anything in double quotes is a string. It can be used in many ways according to problem statements like we can perform all string operations and inbuilt string functions to it.\n",
    "\n",
    "'-87.8' => This is a negative float number. Likewise we can perform arithmetic operations to it. For example we can add two float numbers etc.Not only specific to arithmetic and logical operations we can use it in many different scenarios as well. It all depends on the problem statement.\n",
    "\n",
    "'-' => The negative operator is used to convert positive numbers into negative numbers and can be used in arithmetic operations. For example we can subtract two numbers by using that sign.\n",
    "\n",
    "'/' => This is a division operator, this is used to get remainder when two numbers are divided. Not only in to limited task this operator can be used in many other scenarios as well depends on problem statement.\n",
    "\n",
    "'+' =>This is an addition operator, this is used in arithmetic operations not only in adding two numbers but in files operations etc we can use them. There are many use cases with respect to addition operators. It all depends on the problem statement.\n",
    "\n",
    "'6' => This is a number. It can be used in artithmetic operations.Not only specific to arithmetic                          operations but we can use it in many different scenerios as well. It all depends on problem                        statement\n",
    "\n"
   ]
  },
  {
   "cell_type": "markdown",
   "metadata": {},
   "source": [
    "### 2. What is the difference between string and variable?\n"
   ]
  },
  {
   "cell_type": "markdown",
   "metadata": {},
   "source": [
    "spam : This is a variable. Variable is like a bucket that can hold data.Initially it can be empty or not empty. We can perform logical, arithmetic operations with it as well. It all depends on problem statements\n",
    "\n",
    "'spam' : This is a string as it is enclosed in a double quote. It is immutable once defined we cannot change the string. We can perform many operations on string like its inbuilt methods etc.\n",
    "\n",
    ">Conclusion: The main difference between string and variable is a string can only be a string and a variable can be anything, for example variable can be a number,string,boolean etc\n",
    "\n"
   ]
  },
  {
   "cell_type": "markdown",
   "metadata": {},
   "source": [
    "### 3. Describe three different data forms.\n"
   ]
  },
  {
   "cell_type": "markdown",
   "metadata": {},
   "source": [
    "Solution: There are three different forms of data types they are, numeric, string, and Boolean. Numeric means number,integer,float etc. String means any sentence or number enclosed in double quotes. Boolean means True or False only like 1,0.\n",
    "\n"
   ]
  },
  {
   "cell_type": "markdown",
   "metadata": {},
   "source": [
    "### 4. What makes up an expression? What are the functions of all expressions?\n"
   ]
  },
  {
   "cell_type": "markdown",
   "metadata": {},
   "source": [
    "Solution: An expression means like a statement which makes some or other logic meaning or no meaning at all. \n",
    "\n",
    ">Example:-  A.  23,\n",
    "\t       B.   “How are you?”,\n",
    "\t       C.   4+4   \n",
    "\n",
    "The function of an expression is to make logical sense or return something.\n",
    "\n"
   ]
  },
  {
   "cell_type": "markdown",
   "metadata": {},
   "source": [
    "### 5. In this chapter, assignment statements such as spam = 10 were added. What's the difference between a declaration and an expression?\n"
   ]
  },
  {
   "cell_type": "markdown",
   "metadata": {},
   "source": [
    "Solution: Declaring means assigning a value to something or just declaring in terms of abstract definitions. \t\n",
    "\n",
    ">Ex: spam = 10 means we are declaring the spam value to be 10 initially.\n",
    "\n",
    "Only spam means it is just an expression which does nothing or can be used accordingly to the problem statement.\n"
   ]
  },
  {
   "cell_type": "markdown",
   "metadata": {},
   "source": [
    "### 6. After running the following code, what does the variable bacon contain?\n"
   ]
  },
  {
   "cell_type": "markdown",
   "metadata": {},
   "source": [
    ">bacon = 22\n",
    "bacon + 1\n",
    "Solution: 23\n"
   ]
  },
  {
   "cell_type": "markdown",
   "metadata": {},
   "source": [
    "### 7. What should the values of the following two terms be?\n"
   ]
  },
  {
   "cell_type": "markdown",
   "metadata": {},
   "source": [
    "'spam' + 'spamspam'\n",
    "'spam' * 3\n",
    "\n",
    "Solution:  A. 'spamspamspam',\n",
    "\t       B. 'spamspamspam'\n"
   ]
  },
  {
   "cell_type": "markdown",
   "metadata": {},
   "source": [
    "### 8. Why is it that eggs is a true variable name but 100 is not?\n"
   ]
  },
  {
   "cell_type": "markdown",
   "metadata": {},
   "source": [
    "Solution: According to programming principles and guidelines a variable name should not start with a digit hence 100 can't be a variable name. Whereas eggs can be a variable name according to programming guidelines.\n"
   ]
  },
  {
   "cell_type": "markdown",
   "metadata": {},
   "source": [
    "### 9. Which of the following three functions may be used to convert a value to an integer, a floating-point number, or a string?\n"
   ]
  },
  {
   "cell_type": "markdown",
   "metadata": {},
   "source": [
    "Solution: Floating-point number"
   ]
  },
  {
   "cell_type": "markdown",
   "metadata": {},
   "source": [
    "### 10. What is the error caused by this expression? What would you do about it?\n"
   ]
  },
  {
   "cell_type": "markdown",
   "metadata": {},
   "source": [
    "'I have eaten ' + 99 + ' burritos.'\n",
    "\n",
    "Typeerror as 99 is an integer the interpreter has thrown us a type error the best way to negate this is to convert 99 into string by enclosing it in “” or str(). \n"
   ]
  }
 ],
 "metadata": {
  "kernelspec": {
   "display_name": "Python 3",
   "language": "python",
   "name": "python3"
  },
  "language_info": {
   "codemirror_mode": {
    "name": "ipython",
    "version": 3
   },
   "file_extension": ".py",
   "mimetype": "text/x-python",
   "name": "python",
   "nbconvert_exporter": "python",
   "pygments_lexer": "ipython3",
   "version": "3.8.5"
  }
 },
 "nbformat": 4,
 "nbformat_minor": 4
}
